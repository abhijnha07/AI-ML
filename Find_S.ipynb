{
 "cells": [
  {
   "cell_type": "code",
   "execution_count": 60,
   "id": "273bfa75",
   "metadata": {},
   "outputs": [
    {
     "name": "stdout",
     "output_type": "stream",
     "text": [
      "\n",
      "The given training examples are:\n",
      "['Time', 'Weather', 'Temperature', 'Company', 'Humidity', 'Wind', 'Goes']\n",
      "['Morning', 'Sunny', 'Warm', 'Yes', 'Mild', 'Strong', 'Yes']\n",
      "['Evening', 'Rainy', 'Cold', 'No', 'Mild', 'Normal', 'No']\n",
      "['Morning', 'Sunny', 'Moderate', 'Yes', 'Normal', 'Normal', 'Yes']\n",
      "['Evening', 'Sunny', 'Cold', 'Yes', 'High', 'Strong', 'Yes']\n"
     ]
    }
   ],
   "source": [
    "# 1 FIND-Salgorithm\n",
    "import csv  \n",
    "#hypo=['%','%','%','%','%','%'] \n",
    "with open('Book1.csv') as csv_file:  \n",
    "    readcsv = csv.reader(csv_file, delimiter=',') \n",
    "    data=[]  \n",
    "    print(\"\\nThe given training examples are:\")  \n",
    "    for row in readcsv:     \n",
    "        print(row)  \n",
    "        if row[len(row)-1] =='Yes':    \n",
    "            data.append(row) "
   ]
  },
  {
   "cell_type": "code",
   "execution_count": 61,
   "id": "83748944",
   "metadata": {},
   "outputs": [
    {
     "data": {
      "text/plain": [
       "3"
      ]
     },
     "execution_count": 61,
     "metadata": {},
     "output_type": "execute_result"
    }
   ],
   "source": [
    "TotalExamples=len(data) \n",
    "TotalExamples"
   ]
  },
  {
   "cell_type": "code",
   "execution_count": 62,
   "id": "cb9b4e5e",
   "metadata": {},
   "outputs": [
    {
     "name": "stdout",
     "output_type": "stream",
     "text": [
      "\n",
      "The positive examples are:\n",
      "['Morning', 'Sunny', 'Warm', 'Yes', 'Mild', 'Strong', 'Yes']\n",
      "['Morning', 'Sunny', 'Moderate', 'Yes', 'Normal', 'Normal', 'Yes']\n",
      "['Evening', 'Sunny', 'Cold', 'Yes', 'High', 'Strong', 'Yes']\n"
     ]
    }
   ],
   "source": [
    "print(\"\\nThe positive examples are:\")\n",
    "for x in data:  \n",
    "    print(x) "
   ]
  },
  {
   "cell_type": "code",
   "execution_count": 63,
   "id": "632bb535",
   "metadata": {},
   "outputs": [
    {
     "data": {
      "text/plain": [
       "['Morning', 'Sunny', 'Warm', 'Yes', 'Mild', 'Strong']"
      ]
     },
     "execution_count": 63,
     "metadata": {},
     "output_type": "execute_result"
    }
   ],
   "source": [
    "i=0\n",
    "hypo=[]\n",
    "d=len(data[0])-1\n",
    "for j in range(d):  \n",
    "    hypo.append(data[i][j])\n",
    "hypo"
   ]
  },
  {
   "cell_type": "code",
   "execution_count": 64,
   "id": "f52e5e32",
   "metadata": {},
   "outputs": [
    {
     "name": "stdout",
     "output_type": "stream",
     "text": [
      "['?', 'Sunny', '?', 'Yes', '?', '?']\n"
     ]
    }
   ],
   "source": [
    "for i in range(TotalExamples):   \n",
    "    for k in range(d): \n",
    "        if hypo[k]!=data[i][k]: \n",
    "            hypo[k]='?'\n",
    "        else:    \n",
    "            hypo[k] \n",
    "print(hypo)"
   ]
  },
  {
   "cell_type": "code",
   "execution_count": null,
   "id": "73a2a110",
   "metadata": {},
   "outputs": [],
   "source": []
  }
 ],
 "metadata": {
  "kernelspec": {
   "display_name": "Python 3 (ipykernel)",
   "language": "python",
   "name": "python3"
  },
  "language_info": {
   "codemirror_mode": {
    "name": "ipython",
    "version": 3
   },
   "file_extension": ".py",
   "mimetype": "text/x-python",
   "name": "python",
   "nbconvert_exporter": "python",
   "pygments_lexer": "ipython3",
   "version": "3.9.12"
  }
 },
 "nbformat": 4,
 "nbformat_minor": 5
}
