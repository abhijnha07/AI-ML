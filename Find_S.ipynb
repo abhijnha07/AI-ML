{
 "cells": [
  {
   "cell_type": "code",
   "execution_count": 59,
   "id": "305c8fe9",
   "metadata": {},
   "outputs": [
    {
     "name": "stdout",
     "output_type": "stream",
     "text": [
      "\n",
      "The given training examples are:\n"
     ]
    },
    {
     "ename": "ValueError",
     "evalue": "I/O operation on closed file.",
     "output_type": "error",
     "traceback": [
      "\u001b[1;31m---------------------------------------------------------------------------\u001b[0m",
      "\u001b[1;31mValueError\u001b[0m                                Traceback (most recent call last)",
      "Input \u001b[1;32mIn [59]\u001b[0m, in \u001b[0;36m<cell line: 4>\u001b[1;34m()\u001b[0m\n\u001b[0;32m      7\u001b[0m data\u001b[38;5;241m=\u001b[39m[]  \n\u001b[0;32m      8\u001b[0m \u001b[38;5;28mprint\u001b[39m(\u001b[38;5;124m\"\u001b[39m\u001b[38;5;130;01m\\n\u001b[39;00m\u001b[38;5;124mThe given training examples are:\u001b[39m\u001b[38;5;124m\"\u001b[39m)  \n\u001b[1;32m----> 9\u001b[0m \u001b[38;5;28;01mfor\u001b[39;00m row \u001b[38;5;129;01min\u001b[39;00m readcsv:     \n\u001b[0;32m     10\u001b[0m     \u001b[38;5;28mprint\u001b[39m(row)  \n\u001b[0;32m     11\u001b[0m     \u001b[38;5;28;01mif\u001b[39;00m row[\u001b[38;5;28mlen\u001b[39m(row)\u001b[38;5;241m-\u001b[39m\u001b[38;5;241m1\u001b[39m] \u001b[38;5;241m==\u001b[39m\u001b[38;5;124m'\u001b[39m\u001b[38;5;124mYes\u001b[39m\u001b[38;5;124m'\u001b[39m:    \n",
      "\u001b[1;31mValueError\u001b[0m: I/O operation on closed file."
     ]
    }
   ],
   "source": [
    "# 1 FIND-Salgorithm\n",
    "import csv  \n",
    "#hypo=['%','%','%','%','%','%'] \n",
    "with open('Book1.csv') as csv_file:  \n",
    "    readcsv = csv.reader(csv_file, delimiter=',') \n",
    "    data=[]  \n",
    "    print(\"\\nThe given training examples are:\")  \n",
    "    for row in readcsv:     \n",
    "        print(row)  \n",
    "        if row[len(row)-1] =='Yes':    \n",
    "            data.append(row) "
   ]
  },
  {
   "cell_type": "code",
   "execution_count": 53,
   "id": "09623ba3",
   "metadata": {},
   "outputs": [
    {
     "data": {
      "text/plain": [
       "3"
      ]
     },
     "execution_count": 53,
     "metadata": {},
     "output_type": "execute_result"
    }
   ],
   "source": [
    "TotalExamples=len(data) \n",
    "TotalExamples"
   ]
  },
  {
   "cell_type": "code",
   "execution_count": 54,
   "id": "b72aa130",
   "metadata": {},
   "outputs": [
    {
     "name": "stdout",
     "output_type": "stream",
     "text": [
      "\n",
      "The positive examples are:\n",
      "['Morning', 'Sunny', 'Warm', 'Yes', 'Mild', 'Strong', 'Yes']\n",
      "['Morning', 'Sunny', 'Moderate', 'Yes', 'Normal', 'Normal', 'Yes']\n",
      "['Evening', 'Sunny', 'Cold', 'Yes', 'High', 'Strong', 'Yes']\n"
     ]
    }
   ],
   "source": [
    "print(\"\\nThe positive examples are:\")\n",
    "for x in data:  \n",
    "    print(x) "
   ]
  },
  {
   "cell_type": "code",
   "execution_count": 55,
   "id": "47b947aa",
   "metadata": {},
   "outputs": [
    {
     "data": {
      "text/plain": [
       "['Morning', 'Sunny', 'Warm', 'Yes', 'Mild', 'Strong']"
      ]
     },
     "execution_count": 55,
     "metadata": {},
     "output_type": "execute_result"
    }
   ],
   "source": [
    "i=0\n",
    "hypo=[]\n",
    "d=len(data[0])-1\n",
    "for j in range(d):  \n",
    "    hypo.append(data[i][j])\n",
    "hypo"
   ]
  },
  {
   "cell_type": "code",
   "execution_count": 56,
   "id": "3cfb457e",
   "metadata": {},
   "outputs": [
    {
     "name": "stdout",
     "output_type": "stream",
     "text": [
      "['?', 'Sunny', '?', 'Yes', '?', '?']\n"
     ]
    }
   ],
   "source": [
    "for i in range(TotalExamples):   \n",
    "    for k in range(d): \n",
    "        if hypo[k]!=data[i][k]: \n",
    "            hypo[k]='?'\n",
    "        else:    \n",
    "            hypo[k] \n",
    "print(hypo)"
   ]
  },
  {
   "cell_type": "code",
   "execution_count": null,
   "id": "fd328b10",
   "metadata": {},
   "outputs": [],
   "source": []
  }
 ],
 "metadata": {
  "kernelspec": {
   "display_name": "Python 3 (ipykernel)",
   "language": "python",
   "name": "python3"
  },
  "language_info": {
   "codemirror_mode": {
    "name": "ipython",
    "version": 3
   },
   "file_extension": ".py",
   "mimetype": "text/x-python",
   "name": "python",
   "nbconvert_exporter": "python",
   "pygments_lexer": "ipython3",
   "version": "3.9.12"
  }
 },
 "nbformat": 4,
 "nbformat_minor": 5
}
